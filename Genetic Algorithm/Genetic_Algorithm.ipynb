{
  "cells": [
    {
      "cell_type": "markdown",
      "metadata": {},
      "source": [
        "##Neural Network using Genetic Algorithm"
      ]
    },
    {
      "cell_type": "markdown",
      "metadata": {
        "id": "-T8qDkPr0sox"
      },
      "source": [
        "**Q. Build and Train a neural network using Genetic Algorithm to realise the\n",
        " functionality of XOR gate.**"
      ]
    },
    {
      "cell_type": "code",
      "execution_count": 19,
      "metadata": {
        "colab": {
          "base_uri": "https://localhost:8080/"
        },
        "execution": {
          "iopub.execute_input": "2022-11-10T13:00:37.885935Z",
          "iopub.status.busy": "2022-11-10T13:00:37.885377Z",
          "iopub.status.idle": "2022-11-10T13:00:47.746597Z",
          "shell.execute_reply": "2022-11-10T13:00:47.745244Z",
          "shell.execute_reply.started": "2022-11-10T13:00:37.885876Z"
        },
        "id": "A5-L1PCr0soy",
        "outputId": "b99d3bff-5d17-4b88-dbc7-593fcd22cbf0"
      },
      "outputs": [
        {
          "name": "stdout",
          "output_type": "stream",
          "text": [
            "Looking in indexes: https://pypi.org/simple, https://us-python.pkg.dev/colab-wheels/public/simple/\n",
            "Requirement already satisfied: pygad in /usr/local/lib/python3.7/dist-packages (2.18.1)\n",
            "Requirement already satisfied: matplotlib in /usr/local/lib/python3.7/dist-packages (from pygad) (3.2.2)\n",
            "Requirement already satisfied: numpy in /usr/local/lib/python3.7/dist-packages (from pygad) (1.21.6)\n",
            "Requirement already satisfied: pyparsing!=2.0.4,!=2.1.2,!=2.1.6,>=2.0.1 in /usr/local/lib/python3.7/dist-packages (from matplotlib->pygad) (3.0.9)\n",
            "Requirement already satisfied: cycler>=0.10 in /usr/local/lib/python3.7/dist-packages (from matplotlib->pygad) (0.11.0)\n",
            "Requirement already satisfied: python-dateutil>=2.1 in /usr/local/lib/python3.7/dist-packages (from matplotlib->pygad) (2.8.2)\n",
            "Requirement already satisfied: kiwisolver>=1.0.1 in /usr/local/lib/python3.7/dist-packages (from matplotlib->pygad) (1.4.4)\n",
            "Requirement already satisfied: typing-extensions in /usr/local/lib/python3.7/dist-packages (from kiwisolver>=1.0.1->matplotlib->pygad) (4.1.1)\n",
            "Requirement already satisfied: six>=1.5 in /usr/local/lib/python3.7/dist-packages (from python-dateutil>=2.1->matplotlib->pygad) (1.15.0)\n"
          ]
        }
      ],
      "source": [
        "!pip install pygad"
      ]
    },
    {
      "cell_type": "markdown",
      "metadata": {
        "id": "rcG39Uaw0soz"
      },
      "source": [
        "We have to first install the pygad module of python for this problem. It allows us to use genetic algorithms along with python"
      ]
    },
    {
      "cell_type": "code",
      "execution_count": 20,
      "metadata": {
        "execution": {
          "iopub.execute_input": "2022-11-10T13:00:47.748822Z",
          "iopub.status.busy": "2022-11-10T13:00:47.748502Z",
          "iopub.status.idle": "2022-11-10T13:00:47.756160Z",
          "shell.execute_reply": "2022-11-10T13:00:47.753977Z",
          "shell.execute_reply.started": "2022-11-10T13:00:47.748793Z"
        },
        "id": "cUKj8b9t0so0"
      },
      "outputs": [],
      "source": [
        "import numpy\n",
        "from random import randint\n",
        "import pygad\n",
        "import pygad.nn\n",
        "import pygad.gann"
      ]
    },
    {
      "cell_type": "code",
      "execution_count": 21,
      "metadata": {
        "execution": {
          "iopub.execute_input": "2022-11-10T13:00:47.758454Z",
          "iopub.status.busy": "2022-11-10T13:00:47.758082Z",
          "iopub.status.idle": "2022-11-10T13:00:47.772762Z",
          "shell.execute_reply": "2022-11-10T13:00:47.770383Z",
          "shell.execute_reply.started": "2022-11-10T13:00:47.758425Z"
        },
        "id": "3hWD0LfZ0so0"
      },
      "outputs": [],
      "source": [
        "data_inputs = [[randint(0,1),randint(0,1)] for i in range(10)]\n",
        "data_outputs = [x[0]^x[1] for x in data_inputs]\n",
        "data_inputs = numpy.array(data_inputs)\n",
        "data_outputs = numpy.array(data_outputs)"
      ]
    },
    {
      "cell_type": "markdown",
      "metadata": {
        "id": "njs7zwLy0so1"
      },
      "source": [
        "We are randomly selecting 10 members for our initial population, as asked in the problem statement\n",
        "\n",
        "Then, using this population, we get the output value by performing xor on the randomly chosen 2 inputs"
      ]
    },
    {
      "cell_type": "code",
      "execution_count": 22,
      "metadata": {
        "execution": {
          "iopub.execute_input": "2022-11-10T13:00:47.777184Z",
          "iopub.status.busy": "2022-11-10T13:00:47.776649Z",
          "iopub.status.idle": "2022-11-10T13:00:47.788001Z",
          "shell.execute_reply": "2022-11-10T13:00:47.786410Z",
          "shell.execute_reply.started": "2022-11-10T13:00:47.777147Z"
        },
        "id": "hSG8Owzl0so1"
      },
      "outputs": [],
      "source": [
        "def fitness_func(solution, solution_idx):\n",
        "    global GANN_instance, data_inputs, data_outputs\n",
        "    predictions = pygad.nn.predict(last_layer=GANN_instance.population_networks[solution_idx],\n",
        "                                   data_inputs=data_inputs)\n",
        "    correct_predictions = numpy.where(predictions == data_outputs)[0].size\n",
        "    solution_fitness = (correct_predictions/data_outputs.size)*100\n",
        "    return solution_fitness\n",
        "\n",
        "def callback_generation(ga_instance):\n",
        "    global GANN_instance\n",
        "    population_matrices = pygad.gann.population_as_matrices(population_networks=GANN_instance.population_networks, \n",
        "                                                            population_vectors=ga_instance.population)\n",
        "    GANN_instance.update_population_trained_weights(population_trained_weights=population_matrices)\n",
        "    print(\"Generation = {}\".format(ga_instance.generations_completed))\n",
        "    print(\"Accuracy   = {}\\n\".format(ga_instance.best_solution()[1]))"
      ]
    },
    {
      "cell_type": "markdown",
      "metadata": {
        "id": "X_kODF-Q0so2"
      },
      "source": [
        "The fitness function takes the value of data_inputs and data_outputs and calculates the fitness\n",
        "\n",
        "Call back generation helps us get the generation and the accuracy. It also updates the population based on fitness values"
      ]
    },
    {
      "cell_type": "code",
      "execution_count": 23,
      "metadata": {
        "execution": {
          "iopub.execute_input": "2022-11-10T13:00:47.789754Z",
          "iopub.status.busy": "2022-11-10T13:00:47.789472Z",
          "iopub.status.idle": "2022-11-10T13:00:47.801729Z",
          "shell.execute_reply": "2022-11-10T13:00:47.800834Z",
          "shell.execute_reply.started": "2022-11-10T13:00:47.789727Z"
        },
        "id": "RgQHUopn0so2"
      },
      "outputs": [],
      "source": [
        "GANN_instance = pygad.gann.GANN(num_solutions=5,\n",
        "                                num_neurons_input=2,\n",
        "                                num_neurons_hidden_layers=[2,2],\n",
        "                                num_neurons_output=2,\n",
        "                                hidden_activations=[\"relu\",\"relu\"],\n",
        "                                output_activation=\"softmax\")"
      ]
    },
    {
      "cell_type": "markdown",
      "metadata": {
        "id": "o5o-Stvw0so3"
      },
      "source": [
        "We are considering the following:\n",
        "\n",
        "1. The input layer having 2 nodes and output layer having 2 nodes\n",
        "2. Using 2 hidden layers with 2 nodes in each layer\n",
        "3. Using Relu at both hidden layers\n",
        "4. Softmax at the output"
      ]
    },
    {
      "cell_type": "code",
      "execution_count": 24,
      "metadata": {
        "execution": {
          "iopub.execute_input": "2022-11-10T13:00:47.803677Z",
          "iopub.status.busy": "2022-11-10T13:00:47.803394Z",
          "iopub.status.idle": "2022-11-10T13:00:47.823115Z",
          "shell.execute_reply": "2022-11-10T13:00:47.820268Z",
          "shell.execute_reply.started": "2022-11-10T13:00:47.803652Z"
        },
        "id": "zvdT379m0so3"
      },
      "outputs": [],
      "source": [
        "population_vectors = pygad.gann.population_as_vectors(population_networks=GANN_instance.population_networks)\n",
        "\n",
        "ga_instance = pygad.GA(num_generations=50, \n",
        "                       num_parents_mating=5, \n",
        "                       initial_population=population_vectors.copy(),\n",
        "                       fitness_func=fitness_func,\n",
        "                       mutation_percent_genes=5,\n",
        "                       callback_generation=callback_generation,\n",
        "                       crossover_type = \"two_points\",\n",
        "                       mutation_type = \"swap\"\n",
        "                      )"
      ]
    },
    {
      "cell_type": "markdown",
      "metadata": {
        "id": "agH4CQs70so4"
      },
      "source": [
        "The parameters used in this are:\n",
        "1. Number of generations is 50\n",
        "2. Number of parents in crossovers = 5\n",
        "3. Mutation percentage is 5%\n",
        "4. Crossover type is Two Point Crossover\n",
        "5. Mutaton type is Swap Mutation"
      ]
    },
    {
      "cell_type": "code",
      "execution_count": 25,
      "metadata": {
        "colab": {
          "base_uri": "https://localhost:8080/",
          "height": 1000
        },
        "execution": {
          "iopub.execute_input": "2022-11-10T13:00:47.826132Z",
          "iopub.status.busy": "2022-11-10T13:00:47.825577Z",
          "iopub.status.idle": "2022-11-10T13:00:48.373563Z",
          "shell.execute_reply": "2022-11-10T13:00:48.372769Z",
          "shell.execute_reply.started": "2022-11-10T13:00:47.826091Z"
        },
        "id": "lXBKrkjR0so4",
        "outputId": "911c2b3b-f1fb-4768-a4ab-73bc1c394181"
      },
      "outputs": [
        {
          "name": "stdout",
          "output_type": "stream",
          "text": [
            "Generation = 1\n",
            "Accuracy   = 90.0\n",
            "\n",
            "Generation = 2\n",
            "Accuracy   = 90.0\n",
            "\n",
            "Generation = 3\n",
            "Accuracy   = 90.0\n",
            "\n",
            "Generation = 4\n",
            "Accuracy   = 90.0\n",
            "\n",
            "Generation = 5\n",
            "Accuracy   = 90.0\n",
            "\n",
            "Generation = 6\n",
            "Accuracy   = 90.0\n",
            "\n",
            "Generation = 7\n",
            "Accuracy   = 90.0\n",
            "\n",
            "Generation = 8\n",
            "Accuracy   = 90.0\n",
            "\n",
            "Generation = 9\n",
            "Accuracy   = 90.0\n",
            "\n",
            "Generation = 10\n",
            "Accuracy   = 90.0\n",
            "\n",
            "Generation = 11\n",
            "Accuracy   = 90.0\n",
            "\n",
            "Generation = 12\n",
            "Accuracy   = 90.0\n",
            "\n",
            "Generation = 13\n",
            "Accuracy   = 90.0\n",
            "\n",
            "Generation = 14\n",
            "Accuracy   = 90.0\n",
            "\n",
            "Generation = 15\n",
            "Accuracy   = 90.0\n",
            "\n",
            "Generation = 16\n",
            "Accuracy   = 90.0\n",
            "\n",
            "Generation = 17\n",
            "Accuracy   = 100.0\n",
            "\n",
            "Generation = 18\n",
            "Accuracy   = 100.0\n",
            "\n",
            "Generation = 19\n",
            "Accuracy   = 100.0\n",
            "\n",
            "Generation = 20\n",
            "Accuracy   = 100.0\n",
            "\n",
            "Generation = 21\n",
            "Accuracy   = 100.0\n",
            "\n",
            "Generation = 22\n",
            "Accuracy   = 100.0\n",
            "\n",
            "Generation = 23\n",
            "Accuracy   = 100.0\n",
            "\n",
            "Generation = 24\n",
            "Accuracy   = 100.0\n",
            "\n",
            "Generation = 25\n",
            "Accuracy   = 100.0\n",
            "\n",
            "Generation = 26\n",
            "Accuracy   = 100.0\n",
            "\n",
            "Generation = 27\n",
            "Accuracy   = 100.0\n",
            "\n",
            "Generation = 28\n",
            "Accuracy   = 100.0\n",
            "\n",
            "Generation = 29\n",
            "Accuracy   = 100.0\n",
            "\n",
            "Generation = 30\n",
            "Accuracy   = 100.0\n",
            "\n",
            "Generation = 31\n",
            "Accuracy   = 100.0\n",
            "\n",
            "Generation = 32\n",
            "Accuracy   = 100.0\n",
            "\n",
            "Generation = 33\n",
            "Accuracy   = 100.0\n",
            "\n",
            "Generation = 34\n",
            "Accuracy   = 100.0\n",
            "\n",
            "Generation = 35\n",
            "Accuracy   = 100.0\n",
            "\n",
            "Generation = 36\n",
            "Accuracy   = 100.0\n",
            "\n",
            "Generation = 37\n",
            "Accuracy   = 100.0\n",
            "\n",
            "Generation = 38\n",
            "Accuracy   = 100.0\n",
            "\n",
            "Generation = 39\n",
            "Accuracy   = 100.0\n",
            "\n",
            "Generation = 40\n",
            "Accuracy   = 100.0\n",
            "\n",
            "Generation = 41\n",
            "Accuracy   = 100.0\n",
            "\n",
            "Generation = 42\n",
            "Accuracy   = 100.0\n",
            "\n",
            "Generation = 43\n",
            "Accuracy   = 100.0\n",
            "\n",
            "Generation = 44\n",
            "Accuracy   = 100.0\n",
            "\n",
            "Generation = 45\n",
            "Accuracy   = 100.0\n",
            "\n",
            "Generation = 46\n",
            "Accuracy   = 100.0\n",
            "\n",
            "Generation = 47\n",
            "Accuracy   = 100.0\n",
            "\n",
            "Generation = 48\n",
            "Accuracy   = 100.0\n",
            "\n",
            "Generation = 49\n",
            "Accuracy   = 100.0\n",
            "\n",
            "Generation = 50\n",
            "Accuracy   = 100.0\n",
            "\n"
          ]
        },
        {
          "data": {
            "image/png": "[encoded data removed]",
            "text/plain": [
              "<Figure size 432x288 with 1 Axes>"
            ]
          },
          "metadata": {
            "needs_background": "light"
          },
          "output_type": "display_data"
        },
        {
          "name": "stdout",
          "output_type": "stream",
          "text": [
            "[-0.05801458  0.03705329  0.03434297 -0.04346552 -0.04546201  0.02049263\n",
            " -0.05801458  0.03705329  0.03434297 -0.04346552 -0.04546201 -0.03491127]\n",
            "100.0\n",
            "0\n"
          ]
        }
      ],
      "source": [
        "ga_instance.run()\n",
        "\n",
        "ga_instance.plot_result()\n",
        "\n",
        "solution, solution_fitness, solution_idx = ga_instance.best_solution()\n",
        "print(solution)\n",
        "print(solution_fitness)\n",
        "print(solution_idx)"
      ]
    },
    {
      "cell_type": "markdown",
      "metadata": {
        "id": "17XjgUFP0so4"
      },
      "source": [
        "This generates the accuracy information for 50 generations\n",
        "\n",
        "The plot generated shows Generation vs Fitness graph"
      ]
    },
    {
      "cell_type": "code",
      "execution_count": 26,
      "metadata": {
        "execution": {
          "iopub.execute_input": "2022-11-10T13:00:48.375491Z",
          "iopub.status.busy": "2022-11-10T13:00:48.375005Z",
          "iopub.status.idle": "2022-11-10T13:00:48.380934Z",
          "shell.execute_reply": "2022-11-10T13:00:48.379992Z",
          "shell.execute_reply.started": "2022-11-10T13:00:48.375460Z"
        },
        "id": "h-kxnzZJ0so4"
      },
      "outputs": [],
      "source": [
        "GANN_instance = pygad.gann.GANN(num_solutions=5,\n",
        "                                num_neurons_input=2,\n",
        "                                num_neurons_hidden_layers=[2],\n",
        "                                num_neurons_output=2,\n",
        "                                hidden_activations=[\"relu\"],\n",
        "                                output_activation=\"softmax\")"
      ]
    },
    {
      "cell_type": "markdown",
      "metadata": {
        "id": "fAe0qjma0so5"
      },
      "source": [
        "Now, testing for 1 hidden layer with 2 nodes"
      ]
    },
    {
      "cell_type": "code",
      "execution_count": 27,
      "metadata": {
        "colab": {
          "base_uri": "https://localhost:8080/",
          "height": 1000
        },
        "execution": {
          "iopub.execute_input": "2022-11-10T13:00:48.382922Z",
          "iopub.status.busy": "2022-11-10T13:00:48.382415Z",
          "iopub.status.idle": "2022-11-10T13:00:48.609910Z",
          "shell.execute_reply": "2022-11-10T13:00:48.608863Z",
          "shell.execute_reply.started": "2022-11-10T13:00:48.382875Z"
        },
        "id": "LVig_8oC0so5",
        "outputId": "3e910291-48a1-4c9c-dd2d-bfd71b7fa403"
      },
      "outputs": [
        {
          "name": "stdout",
          "output_type": "stream",
          "text": [
            "Generation = 1\n",
            "Accuracy   = 100.0\n",
            "\n",
            "Generation = 2\n",
            "Accuracy   = 100.0\n",
            "\n",
            "Generation = 3\n",
            "Accuracy   = 100.0\n",
            "\n",
            "Generation = 4\n",
            "Accuracy   = 100.0\n",
            "\n",
            "Generation = 5\n",
            "Accuracy   = 100.0\n",
            "\n",
            "Generation = 6\n",
            "Accuracy   = 100.0\n",
            "\n",
            "Generation = 7\n",
            "Accuracy   = 100.0\n",
            "\n",
            "Generation = 8\n",
            "Accuracy   = 100.0\n",
            "\n",
            "Generation = 9\n",
            "Accuracy   = 100.0\n",
            "\n",
            "Generation = 10\n",
            "Accuracy   = 100.0\n",
            "\n",
            "Generation = 11\n",
            "Accuracy   = 100.0\n",
            "\n",
            "Generation = 12\n",
            "Accuracy   = 100.0\n",
            "\n",
            "Generation = 13\n",
            "Accuracy   = 100.0\n",
            "\n",
            "Generation = 14\n",
            "Accuracy   = 100.0\n",
            "\n",
            "Generation = 15\n",
            "Accuracy   = 100.0\n",
            "\n",
            "Generation = 16\n",
            "Accuracy   = 100.0\n",
            "\n",
            "Generation = 17\n",
            "Accuracy   = 100.0\n",
            "\n",
            "Generation = 18\n",
            "Accuracy   = 100.0\n",
            "\n",
            "Generation = 19\n",
            "Accuracy   = 100.0\n",
            "\n",
            "Generation = 20\n",
            "Accuracy   = 100.0\n",
            "\n",
            "Generation = 21\n",
            "Accuracy   = 100.0\n",
            "\n",
            "Generation = 22\n",
            "Accuracy   = 100.0\n",
            "\n",
            "Generation = 23\n",
            "Accuracy   = 100.0\n",
            "\n",
            "Generation = 24\n",
            "Accuracy   = 100.0\n",
            "\n",
            "Generation = 25\n",
            "Accuracy   = 100.0\n",
            "\n",
            "Generation = 26\n",
            "Accuracy   = 100.0\n",
            "\n",
            "Generation = 27\n",
            "Accuracy   = 100.0\n",
            "\n",
            "Generation = 28\n",
            "Accuracy   = 100.0\n",
            "\n",
            "Generation = 29\n",
            "Accuracy   = 100.0\n",
            "\n",
            "Generation = 30\n",
            "Accuracy   = 100.0\n",
            "\n",
            "Generation = 31\n",
            "Accuracy   = 100.0\n",
            "\n",
            "Generation = 32\n",
            "Accuracy   = 100.0\n",
            "\n",
            "Generation = 33\n",
            "Accuracy   = 100.0\n",
            "\n",
            "Generation = 34\n",
            "Accuracy   = 100.0\n",
            "\n",
            "Generation = 35\n",
            "Accuracy   = 100.0\n",
            "\n",
            "Generation = 36\n",
            "Accuracy   = 100.0\n",
            "\n",
            "Generation = 37\n",
            "Accuracy   = 100.0\n",
            "\n",
            "Generation = 38\n",
            "Accuracy   = 100.0\n",
            "\n",
            "Generation = 39\n",
            "Accuracy   = 100.0\n",
            "\n",
            "Generation = 40\n",
            "Accuracy   = 100.0\n",
            "\n",
            "Generation = 41\n",
            "Accuracy   = 100.0\n",
            "\n",
            "Generation = 42\n",
            "Accuracy   = 100.0\n",
            "\n",
            "Generation = 43\n",
            "Accuracy   = 100.0\n",
            "\n",
            "Generation = 44\n",
            "Accuracy   = 100.0\n",
            "\n",
            "Generation = 45\n",
            "Accuracy   = 100.0\n",
            "\n",
            "Generation = 46\n",
            "Accuracy   = 100.0\n",
            "\n",
            "Generation = 47\n",
            "Accuracy   = 100.0\n",
            "\n",
            "Generation = 48\n",
            "Accuracy   = 100.0\n",
            "\n",
            "Generation = 49\n",
            "Accuracy   = 100.0\n",
            "\n",
            "Generation = 50\n",
            "Accuracy   = 100.0\n",
            "\n"
          ]
        },
        {
          "data": {
            "image/png": "[encoded data removed]",
            "text/plain": [
              "<Figure size 432x288 with 1 Axes>"
            ]
          },
          "metadata": {
            "needs_background": "light"
          },
          "output_type": "display_data"
        },
        {
          "name": "stdout",
          "output_type": "stream",
          "text": [
            "[-0.06314005  0.00775093  0.02902545 -0.05309226 -0.0449949   0.00775093\n",
            " -0.06354506 -0.05309226]\n",
            "100.0\n",
            "0\n"
          ]
        }
      ],
      "source": [
        "population_vectors = pygad.gann.population_as_vectors(population_networks=GANN_instance.population_networks)\n",
        "\n",
        "ga_instance = pygad.GA(num_generations=50, \n",
        "                       num_parents_mating=5, \n",
        "                       initial_population=population_vectors.copy(),\n",
        "                       fitness_func=fitness_func,\n",
        "                       mutation_percent_genes=5,\n",
        "                       callback_generation=callback_generation,\n",
        "                       crossover_type = \"two_points\",\n",
        "                       mutation_type = \"swap\"\n",
        "                      )\n",
        "\n",
        "ga_instance.run()\n",
        "\n",
        "ga_instance.plot_result()\n",
        "\n",
        "solution, solution_fitness, solution_idx = ga_instance.best_solution()\n",
        "print(solution)\n",
        "print(solution_fitness)\n",
        "print(solution_idx)"
      ]
    },
    {
      "cell_type": "markdown",
      "metadata": {
        "id": "FEEIb2lk0so5"
      },
      "source": [
        "Here, we obtain different values of accuracy for generations."
      ]
    }
  ],
  "metadata": {
    "colab": {
      "provenance": []
    },
    "kernelspec": {
      "display_name": "Python 3.10.8 64-bit",
      "language": "python",
      "name": "python3"
    },
    "language_info": {
      "codemirror_mode": {
        "name": "ipython",
        "version": 3
      },
      "file_extension": ".py",
      "mimetype": "text/x-python",
      "name": "python",
      "nbconvert_exporter": "python",
      "pygments_lexer": "ipython3",
      "version": "3.10.8"
    },
    "vscode": {
      "interpreter": {
        "hash": "d0754efa56362d41604f3e06d6b8042001933d0fc41d5c940acef8c43e816542"
      }
    }
  },
  "nbformat": 4,
  "nbformat_minor": 0
}
